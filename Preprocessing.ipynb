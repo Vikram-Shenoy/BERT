{
 "cells": [
  {
   "cell_type": "code",
   "execution_count": 2,
   "id": "ee3f0fe4",
   "metadata": {},
   "outputs": [],
   "source": [
    "import tensorflow_hub as hub\n",
    "import tensorflow_text as text\n",
    "\n"
   ]
  },
  {
   "cell_type": "code",
   "execution_count": 3,
   "id": "5233a168",
   "metadata": {},
   "outputs": [],
   "source": [
    "# load the pre-processing model \n",
    "preprocess = hub.load('https://tfhub.dev/tensorflow/bert_en_uncased_preprocess/1')\n"
   ]
  },
  {
   "cell_type": "code",
   "execution_count": 5,
   "id": "8a62c1f4",
   "metadata": {},
   "outputs": [],
   "source": [
    "# Use BERT pre-processing on a batch of raw text inputs.\n",
    "embeddings = preprocess([r'sets/training_text_file/all.txt'])\n"
   ]
  },
  {
   "cell_type": "code",
   "execution_count": null,
   "id": "388566dc",
   "metadata": {},
   "outputs": [],
   "source": []
  },
  {
   "cell_type": "code",
   "execution_count": null,
   "id": "bc00aa9a",
   "metadata": {},
   "outputs": [],
   "source": []
  }
 ],
 "metadata": {
  "kernelspec": {
   "display_name": "Python 3",
   "language": "python",
   "name": "python3"
  },
  "language_info": {
   "codemirror_mode": {
    "name": "ipython",
    "version": 3
   },
   "file_extension": ".py",
   "mimetype": "text/x-python",
   "name": "python",
   "nbconvert_exporter": "python",
   "pygments_lexer": "ipython3",
   "version": "3.8.8"
  }
 },
 "nbformat": 4,
 "nbformat_minor": 5
}
